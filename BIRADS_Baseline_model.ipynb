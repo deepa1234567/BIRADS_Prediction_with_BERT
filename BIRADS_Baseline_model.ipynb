{
 "cells": [
  {
   "cell_type": "code",
   "execution_count": null,
   "metadata": {},
   "outputs": [],
   "source": [
    "#reading the data\n",
    "import pandas as pd\n",
    "df_rad=pd.read_csv('/Users/deepureddy/Desktop/REDI/radiology_reports_birads_score_STUDENTS_PRO.csv')"
   ]
  },
  {
   "cell_type": "code",
   "execution_count": null,
   "metadata": {},
   "outputs": [],
   "source": [
    "import re"
   ]
  },
  {
   "cell_type": "code",
   "execution_count": null,
   "metadata": {},
   "outputs": [],
   "source": [
    "#convert into lower case and then get the Uniformity in the BIRADS score\n",
    "df_rad = df_rad.apply(lambda x: x.astype(str).str.lower())"
   ]
  },
  {
   "cell_type": "code",
   "execution_count": null,
   "metadata": {},
   "outputs": [],
   "source": [
    "df_rad[\"BIRADS\"] = df_rad[\"BIRADS\"].replace(\"i\",1)\n",
    "df_rad[\"BIRADS\"] = df_rad[\"BIRADS\"].replace(\"ii\",2)\n",
    "df_rad[\"BIRADS\"] = df_rad[\"BIRADS\"].replace(\"iii\",3)\n",
    "df_rad[\"BIRADS\"] = df_rad[\"BIRADS\"].replace(\"iv\",4)\n",
    "df_rad[\"BIRADS\"] = df_rad[\"BIRADS\"].replace(\"v\",5)\n",
    "df_rad[\"BIRADS\"] = df_rad[\"BIRADS\"].replace(\"vi\",6)\n",
    "df_rad[\"BIRADS\"] = df_rad[\"BIRADS\"].replace(\"vii\",7)\n",
    "df_rad[\"BIRADS\"] = df_rad[\"BIRADS\"].replace(\"viii\",8)\n",
    "df_rad[\"BIRADS\"] = df_rad[\"BIRADS\"].replace(\"ix\",9)\n",
    "df_rad[\"BIRADS\"] = df_rad[\"BIRADS\"].replace(\"x\",10)\n",
    "df_rad[\"BIRADS\"] = df_rad[\"BIRADS\"].replace(\"een\",1)\n",
    "df_rad[\"BIRADS\"] = df_rad[\"BIRADS\"].replace(\"twee\",2)\n",
    "df_rad[\"BIRADS\"] = df_rad[\"BIRADS\"].replace(\"drie\",3)\n",
    "df_rad[\"BIRADS\"] = df_rad[\"BIRADS\"].replace(\"vier\",4)\n",
    "df_rad[\"BIRADS\"] = df_rad[\"BIRADS\"].replace(\"vijf\",5)\n",
    "df_rad[\"BIRADS\"] = df_rad[\"BIRADS\"].replace(\"zes\",6)\n",
    "df_rad[\"BIRADS\"] = df_rad[\"BIRADS\"].replace(\"zeven\",7)\n",
    "df_rad[\"BIRADS\"] = df_rad[\"BIRADS\"].replace(\"acht\",8)\n",
    "df_rad[\"BIRADS\"] = df_rad[\"BIRADS\"].replace(\"negen\",9)\n",
    "df_rad[\"BIRADS\"] = df_rad[\"BIRADS\"].replace(\"tien\",10)\n",
    "df_rad['BIRADS'] = df_rad['BIRADS'].replace('iva', 4)\n",
    "df_rad['BIRADS'] = df_rad['BIRADS'].replace('ivb', 4)\n",
    "df_rad['BIRADS'] = df_rad['BIRADS'].replace('ivc', 4)\n",
    "df_rad['BIRADS'] = df_rad['BIRADS'].replace('ivd', 4)\n",
    "df_rad['BIRADS'] = df_rad['BIRADS'].replace('4a', 4)\n",
    "df_rad['BIRADS'] = df_rad['BIRADS'].replace('4b', 4)\n",
    "df_rad['BIRADS'] = df_rad['BIRADS'].replace('4c', 4)\n",
    "df_rad['BIRADS'] = df_rad['BIRADS'].replace('4d', 4)\n",
    "df_rad['BIRADS'] = df_rad['BIRADS'].replace('0', 0)\n",
    "df_rad['BIRADS'] = df_rad['BIRADS'].replace('1', 1)\n",
    "df_rad['BIRADS'] = df_rad['BIRADS'].replace('2', 2)\n",
    "df_rad['BIRADS'] = df_rad['BIRADS'].replace('3', 3)\n",
    "df_rad['BIRADS'] = df_rad['BIRADS'].replace('4', 4)\n",
    "df_rad['BIRADS'] = df_rad['BIRADS'].replace('5', 5)\n",
    "df_rad['BIRADS'] = df_rad['BIRADS'].replace('6', 6)"
   ]
  },
  {
   "cell_type": "code",
   "execution_count": null,
   "metadata": {},
   "outputs": [],
   "source": [
    "df_rad_1 = df_rad"
   ]
  },
  {
   "cell_type": "code",
   "execution_count": null,
   "metadata": {},
   "outputs": [],
   "source": [
    "#remove all the special chars\n",
    "import pandas as pd\n",
    "import numpy as np\n",
    "spec_chars = [\"!\",'\"',\"#\",\"%\",\"&\",\"'\",\"(\",\")\",\n",
    "              \"*\",\"+\",\",\",\"-\",\".\",\"/\",\":\",\";\",\"<\",\n",
    "              \"=\",\">\",\"?\",\"@\",\"[\",\"\\\\\",\"]\",\"^\",\"_\",\n",
    "              \"`\",\"{\",\"|\",\"}\",\"~\",\"–\",\"\\n\",'ii','iii',\"\\d\",\"Verslag:\", \"medische\", \"gegevens\"]\n",
    "for char in spec_chars:\n",
    "    df_rad_1['Report_MG'] = df_rad_1['Report_MG'].str.replace(char, ' ')\n",
    "    df_rad_1['Report_US'] = df_rad_1['Report_US'].str.replace(char, ' ')\n",
    "    df_rad_1['Report_MRI'] = df_rad_1['Report_MRI'].str.replace(char, ' ')"
   ]
  },
  {
   "cell_type": "code",
   "execution_count": null,
   "metadata": {},
   "outputs": [],
   "source": [
    "df_rad_1['Report_MG'] = df_rad_1['Report_MG'].str.split(\"conclusie:\",expand=True)[0]\n",
    "df_rad_1['Report_MG'] = df_rad_1['Report_MG'].str.split(\"conclusie\",expand=True)[0]"
   ]
  },
  {
   "cell_type": "code",
   "execution_count": null,
   "metadata": {},
   "outputs": [],
   "source": [
    "df_ploted = df_rad_1['BIRADS'].value_counts()\n",
    "df_ploted.plot.bar(x=\"test\", y=\"gest\", rot=100, title=\"BIRADS Data distrubtion\")"
   ]
  },
  {
   "cell_type": "code",
   "execution_count": null,
   "metadata": {},
   "outputs": [],
   "source": [
    "df_rad_1.drop(df_rad_1.index[df_rad_1['BIRADS'] == 'nan'], inplace = True)\n",
    "df_rad_1.drop(df_rad_1.index[df_rad_1['BIRADS'] == '7'], inplace = True)\n",
    "df_rad_1.drop(df_rad_1.index[df_rad_1['BIRADS'] == '8'], inplace = True)\n",
    "df_rad_1.drop(df_rad_1.index[df_rad_1['BIRADS'] == '9'], inplace = True)"
   ]
  },
  {
   "cell_type": "code",
   "execution_count": null,
   "metadata": {},
   "outputs": [],
   "source": [
    "#class imbalace check\n",
    "df_ploted = df_rad_1['BIRADS'].value_counts()\n",
    "df_ploted.plot.bar(x=\"test\", y=\"gest\", rot=100, title=\"BIRADS Data distrubtion\")"
   ]
  },
  {
   "cell_type": "code",
   "execution_count": null,
   "metadata": {},
   "outputs": [],
   "source": [
    "df_rad_1"
   ]
  },
  {
   "cell_type": "code",
   "execution_count": null,
   "metadata": {},
   "outputs": [],
   "source": [
    "import nltk\n",
    "from nltk.corpus import stopwords\n",
    "print(stopwords.words('dutch'))"
   ]
  },
  {
   "cell_type": "code",
   "execution_count": null,
   "metadata": {},
   "outputs": [],
   "source": [
    "df_training = df_rad_1[['Id','Report_MG','BIRADS']]"
   ]
  },
  {
   "cell_type": "code",
   "execution_count": null,
   "metadata": {},
   "outputs": [],
   "source": [
    "df_training.drop(df_training.index[df_training['Report_MG'] == 'nan'], inplace = True)"
   ]
  },
  {
   "cell_type": "code",
   "execution_count": null,
   "metadata": {},
   "outputs": [],
   "source": [
    "df_training"
   ]
  },
  {
   "cell_type": "code",
   "execution_count": null,
   "metadata": {},
   "outputs": [],
   "source": [
    "new_ploted = df_training['BIRADS'].value_counts()\n",
    "new_ploted.plot.bar(title=\"BIRADS Data distrubtion\")"
   ]
  },
  {
   "cell_type": "code",
   "execution_count": null,
   "metadata": {},
   "outputs": [],
   "source": [
    "import nltk.corpus\n",
    "nltk.download('stopwords')\n",
    "from nltk.corpus import stopwords\n",
    "stop = stopwords.words('dutch')\n",
    "stop.remove('geen')\n",
    "df_training['cleaned_text'] = df_training['Report_MG'].apply(lambda x: ' '.join([word for word in x.split() if word not in (stop)]))\n",
    "df_training.head()"
   ]
  },
  {
   "cell_type": "code",
   "execution_count": null,
   "metadata": {},
   "outputs": [],
   "source": [
    "df_training.cleaned_text.iloc[2]"
   ]
  },
  {
   "cell_type": "code",
   "execution_count": null,
   "metadata": {},
   "outputs": [],
   "source": [
    "import nltk \n",
    "nltk.download('punkt')\n",
    "from nltk.tokenize import sent_tokenize, word_tokenize\n",
    "df_training['tokenized_text'] = df_training['cleaned_text'].apply(lambda x: word_tokenize(x))\n",
    "df_training.head()"
   ]
  },
  {
   "cell_type": "code",
   "execution_count": null,
   "metadata": {},
   "outputs": [],
   "source": [
    "from nltk.stem import PorterStemmer\n",
    "def word_stemmer(text):\n",
    "    stem_text = [PorterStemmer().stem(i) for i in text]\n",
    "    return stem_text\n",
    "df_training['text_tokens_stem'] = df_training['tokenized_text'].apply(lambda x: word_stemmer(x))\n",
    "df_training.head()"
   ]
  },
  {
   "cell_type": "code",
   "execution_count": null,
   "metadata": {},
   "outputs": [],
   "source": [
    "nltk.download('wordnet')\n",
    "from nltk.stem import WordNetLemmatizer\n",
    "def word_lemmatizer(text):\n",
    "    lem_text = [WordNetLemmatizer().lemmatize(i) for i in text]\n",
    "    return lem_text\n",
    "df_training['text_tokens_lemma'] = df_training['tokenized_text'].apply(lambda x: word_lemmatizer(x))\n",
    "df_training.head()"
   ]
  },
  {
   "cell_type": "code",
   "execution_count": null,
   "metadata": {},
   "outputs": [],
   "source": [
    "df_training.head(50)"
   ]
  },
  {
   "cell_type": "code",
   "execution_count": null,
   "metadata": {},
   "outputs": [],
   "source": [
    "df_main_data = df_training[['cleaned_text','BIRADS']]"
   ]
  },
  {
   "cell_type": "code",
   "execution_count": null,
   "metadata": {},
   "outputs": [],
   "source": [
    ">>> from sklearn.feature_extraction.text import TfidfVectorizer\n",
    "vectorizer = TfidfVectorizer(max_features=1500, min_df=0.05, max_df=0.7, stop_words=stop, ngram_range =(1,3))\n",
    "X = vectorizer.fit_transform(df_main_data.cleaned_text)\n",
    "y = df_main_data.BIRADS\n",
    "y = y.astype('int')"
   ]
  },
  {
   "cell_type": "code",
   "execution_count": null,
   "metadata": {},
   "outputs": [],
   "source": [
    "df_main_data.cleaned_text.iloc[2]"
   ]
  },
  {
   "cell_type": "code",
   "execution_count": null,
   "metadata": {},
   "outputs": [],
   "source": [
    "from sklearn.model_selection import train_test_split\n",
    "X_train, X_test, y_train, y_test = train_test_split(X, y, test_size=0.3, random_state=0)"
   ]
  },
  {
   "cell_type": "code",
   "execution_count": null,
   "metadata": {},
   "outputs": [],
   "source": [
    "from sklearn.tree import DecisionTreeClassifier\n",
    "from sklearn.metrics import f1_score\n",
    "import sklearn.metrics as metrics\n",
    "clf = DecisionTreeClassifier(class_weight = 'balanced')\n",
    "clf_FS = clf.fit(X_train,y_train)\n",
    "y_pred = clf.predict(X_test)\n",
    "print(\"Accuracy:\",metrics.accuracy_score(y_test, y_pred))\n",
    "f1 = f1_score(y_test, y_pred,average = 'macro')\n",
    "print(\"F1 Score\",f1)\n",
    " "
   ]
  },
  {
   "cell_type": "code",
   "execution_count": null,
   "metadata": {},
   "outputs": [],
   "source": [
    "from sklearn.metrics import classification_report,confusion_matrix\n",
    "from sklearn.metrics import balanced_accuracy_score\n",
    "print(classification_report(y_test,y_pred))\n",
    "print(balanced_accuracy_score(y_test,y_pred))"
   ]
  },
  {
   "cell_type": "code",
   "execution_count": null,
   "metadata": {},
   "outputs": [],
   "source": [
    "from sklearn.metrics import classification_report, confusion_matrix, accuracy_score\n",
    "\n",
    "print(confusion_matrix(y_test,y_pred))\n",
    "print(classification_report(y_test,y_pred))\n",
    "print(accuracy_score(y_test, y_pred))"
   ]
  },
  {
   "cell_type": "code",
   "execution_count": null,
   "metadata": {},
   "outputs": [],
   "source": [
    "from sklearn.tree import DecisionTreeClassifier\n",
    "from sklearn.metrics import f1_score\n",
    "import sklearn.metrics as metrics\n",
    "clf_test = DecisionTreeClassifier()\n",
    "clf_FS_test = clf_test.fit(X_train,y_train)\n",
    "y_pred = clf_test.predict(X_test)\n",
    "print(\"Accuracy:\",metrics.accuracy_score(y_test, y_pred))\n",
    "f1 = f1_score(y_test, y_pred,average = 'macro')\n",
    "print(\"F1 Score\",f1)"
   ]
  },
  {
   "cell_type": "code",
   "execution_count": null,
   "metadata": {},
   "outputs": [],
   "source": [
    "from sklearn.metrics import classification_report,confusion_matrix\n",
    "from sklearn.metrics import balanced_accuracy_score\n",
    "print(classification_report(y_test,y_pred))\n",
    "print(balanced_accuracy_score(y_test,y_pred))"
   ]
  },
  {
   "cell_type": "code",
   "execution_count": null,
   "metadata": {},
   "outputs": [],
   "source": [
    "from sklearn.metrics import classification_report, confusion_matrix, accuracy_score\n",
    "\n",
    "print(confusion_matrix(y_test,y_pred))\n",
    "print(classification_report(y_test,y_pred))\n",
    "print(accuracy_score(y_test, y_pred))"
   ]
  },
  {
   "cell_type": "code",
   "execution_count": null,
   "metadata": {},
   "outputs": [],
   "source": [
    "from sklearn import svm\n",
    "from eli5.sklearn import PermutationImportance\n",
    "clf_1 = svm.SVC(class_weight = 'balanced')\n",
    "svc = clf_1.fit(X_train, y_train)\n",
    "y_pred_svm = clf_1.predict(X_test)\n",
    "print(\"Accuracy:\",metrics.accuracy_score(y_test, y_pred_svm))\n",
    "print(\"balanced accuracy:\",balanced_accuracy_score(y_test,y_pred_svm))\n",
    "f1 = f1_score(y_test, y_pred_svm,average = 'macro')\n",
    "print(\"F1 Score:\",f1)\n"
   ]
  },
  {
   "cell_type": "code",
   "execution_count": null,
   "metadata": {},
   "outputs": [],
   "source": [
    "from sklearn.linear_model import LogisticRegression\n",
    "logreg = LogisticRegression(class_weight='balanced')\n",
    "logForFS =logreg.fit(X_train,y_train)\n",
    "y_pred_LR=logreg.predict(X_test)\n",
    "print(\"Accuracy:\",metrics.accuracy_score(y_test, y_pred_LR))\n",
    "print(\"balanced accuracy:\",balanced_accuracy_score(y_test,y_pred_LR))\n",
    "f1 = f1_score(y_test, y_pred_LR,average = 'macro')\n",
    "print(\"F1 Score:\",f1)"
   ]
  },
  {
   "cell_type": "code",
   "execution_count": null,
   "metadata": {},
   "outputs": [],
   "source": [
    "import eli5\n",
    "from eli5.sklearn import PermutationImportance\n",
    "from sklearn.svm import SVC"
   ]
  },
  {
   "cell_type": "code",
   "execution_count": null,
   "metadata": {},
   "outputs": [],
   "source": [
    "pip install eli5"
   ]
  },
  {
   "cell_type": "code",
   "execution_count": null,
   "metadata": {},
   "outputs": [],
   "source": [
    "eli5.show_weights(estimator=logForFS, \n",
    "                  feature_names= list(vectorizer.get_feature_names()),\n",
    "                 top=(10, 5))"
   ]
  }
 ],
 "metadata": {
  "kernelspec": {
   "display_name": "Python 3",
   "language": "python",
   "name": "python3"
  },
  "language_info": {
   "codemirror_mode": {
    "name": "ipython",
    "version": 3
   },
   "file_extension": ".py",
   "mimetype": "text/x-python",
   "name": "python",
   "nbconvert_exporter": "python",
   "pygments_lexer": "ipython3",
   "version": "3.8.5"
  }
 },
 "nbformat": 4,
 "nbformat_minor": 4
}
