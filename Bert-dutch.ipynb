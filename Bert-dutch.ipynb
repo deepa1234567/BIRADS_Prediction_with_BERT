{
 "cells": [
  {
   "cell_type": "code",
   "execution_count": 179,
   "metadata": {},
   "outputs": [
    {
     "name": "stderr",
     "output_type": "stream",
     "text": [
      "[nltk_data] Downloading package stopwords to\n",
      "[nltk_data]     /Users/deepureddy/nltk_data...\n",
      "[nltk_data]   Package stopwords is already up-to-date!\n",
      "<ipython-input-179-058ac0d7dfb6>:73: SettingWithCopyWarning: \n",
      "A value is trying to be set on a copy of a slice from a DataFrame.\n",
      "Try using .loc[row_indexer,col_indexer] = value instead\n",
      "\n",
      "See the caveats in the documentation: https://pandas.pydata.org/pandas-docs/stable/user_guide/indexing.html#returning-a-view-versus-a-copy\n",
      "  df_training['cleaned_text'] = df_training['Report_MG'].apply(lambda x: ' '.join([word for word in x.split() if word not in (stop)]))\n",
      "/opt/anaconda3/lib/python3.8/site-packages/pandas/core/frame.py:4163: SettingWithCopyWarning: \n",
      "A value is trying to be set on a copy of a slice from a DataFrame\n",
      "\n",
      "See the caveats in the documentation: https://pandas.pydata.org/pandas-docs/stable/user_guide/indexing.html#returning-a-view-versus-a-copy\n",
      "  return super().drop(\n",
      "<ipython-input-179-058ac0d7dfb6>:77: SettingWithCopyWarning: \n",
      "A value is trying to be set on a copy of a slice from a DataFrame.\n",
      "Try using .loc[row_indexer,col_indexer] = value instead\n",
      "\n",
      "See the caveats in the documentation: https://pandas.pydata.org/pandas-docs/stable/user_guide/indexing.html#returning-a-view-versus-a-copy\n",
      "  df_training['cleaned_text'] = df_training['Report_MG'].apply(lambda x: ' '.join([word for word in x.split() if word not in (stop)]))\n"
     ]
    },
    {
     "data": {
      "image/png": "[encoded data removed]",
      "text/plain": [
       "<Figure size 432x288 with 1 Axes>"
      ]
     },
     "metadata": {
      "needs_background": "light"
     },
     "output_type": "display_data"
    }
   ],
   "source": [
    "import torch\n",
    "import re\n",
    "import pandas as pd\n",
    "from tqdm.notebook import tqdm\n",
    "\n",
    "from transformers import BertTokenizer\n",
    "from torch.utils.data import TensorDataset\n",
    "\n",
    "from transformers import BertForSequenceClassification\n",
    "df_rad =pd.read_csv('/Users/deepureddy/Desktop/REDI/radiology_reports_birads_score_STUDENTS_PRO.csv')\n",
    "df_rad = df_rad.apply(lambda x: x.astype(str).str.lower())\n",
    "df_rad[\"BIRADS\"] = df_rad[\"BIRADS\"].replace(\"i\",1)\n",
    "df_rad[\"BIRADS\"] = df_rad[\"BIRADS\"].replace(\"ii\",2)\n",
    "df_rad[\"BIRADS\"] = df_rad[\"BIRADS\"].replace(\"iii\",3)\n",
    "df_rad[\"BIRADS\"] = df_rad[\"BIRADS\"].replace(\"iv\",4)\n",
    "df_rad[\"BIRADS\"] = df_rad[\"BIRADS\"].replace(\"v\",5)\n",
    "df_rad[\"BIRADS\"] = df_rad[\"BIRADS\"].replace(\"vi\",6)\n",
    "df_rad[\"BIRADS\"] = df_rad[\"BIRADS\"].replace(\"vii\",7)\n",
    "df_rad[\"BIRADS\"] = df_rad[\"BIRADS\"].replace(\"viii\",8)\n",
    "df_rad[\"BIRADS\"] = df_rad[\"BIRADS\"].replace(\"ix\",9)\n",
    "df_rad[\"BIRADS\"] = df_rad[\"BIRADS\"].replace(\"x\",10)\n",
    "df_rad[\"BIRADS\"] = df_rad[\"BIRADS\"].replace(\"een\",1)\n",
    "df_rad[\"BIRADS\"] = df_rad[\"BIRADS\"].replace(\"twee\",2)\n",
    "df_rad[\"BIRADS\"] = df_rad[\"BIRADS\"].replace(\"drie\",3)\n",
    "df_rad[\"BIRADS\"] = df_rad[\"BIRADS\"].replace(\"vier\",4)\n",
    "df_rad[\"BIRADS\"] = df_rad[\"BIRADS\"].replace(\"vijf\",5)\n",
    "df_rad[\"BIRADS\"] = df_rad[\"BIRADS\"].replace(\"zes\",6)\n",
    "df_rad[\"BIRADS\"] = df_rad[\"BIRADS\"].replace(\"zeven\",7)\n",
    "df_rad[\"BIRADS\"] = df_rad[\"BIRADS\"].replace(\"acht\",8)\n",
    "df_rad[\"BIRADS\"] = df_rad[\"BIRADS\"].replace(\"negen\",9)\n",
    "df_rad[\"BIRADS\"] = df_rad[\"BIRADS\"].replace(\"tien\",10)\n",
    "df_rad['BIRADS'] = df_rad['BIRADS'].replace('iva', 4)\n",
    "df_rad['BIRADS'] = df_rad['BIRADS'].replace('ivb', 4)\n",
    "df_rad['BIRADS'] = df_rad['BIRADS'].replace('ivc', 4)\n",
    "df_rad['BIRADS'] = df_rad['BIRADS'].replace('ivd', 4)\n",
    "df_rad['BIRADS'] = df_rad['BIRADS'].replace('4a', 4)\n",
    "df_rad['BIRADS'] = df_rad['BIRADS'].replace('4b', 4)\n",
    "df_rad['BIRADS'] = df_rad['BIRADS'].replace('4c', 4)\n",
    "df_rad['BIRADS'] = df_rad['BIRADS'].replace('4d', 4)\n",
    "df_rad['BIRADS'] = df_rad['BIRADS'].replace('0', 0)\n",
    "df_rad['BIRADS'] = df_rad['BIRADS'].replace('1', 1)\n",
    "df_rad['BIRADS'] = df_rad['BIRADS'].replace('2', 2)\n",
    "df_rad['BIRADS'] = df_rad['BIRADS'].replace('3', 3)\n",
    "df_rad['BIRADS'] = df_rad['BIRADS'].replace('4', 4)\n",
    "df_rad['BIRADS'] = df_rad['BIRADS'].replace('5', 5)\n",
    "df_rad['BIRADS'] = df_rad['BIRADS'].replace('6', 6)\n",
    "df_rad_1 = df_rad\n",
    "import pandas as pd\n",
    "import numpy as np\n",
    "import nltk.corpus\n",
    "nltk.download('stopwords')\n",
    "from nltk.corpus import stopwords\n",
    "stop = stopwords.words('dutch')\n",
    "stop.remove('geen')\n",
    "spec_chars = [\"!\",'\"',\"#\",\"%\",\"&\",\"'\",\"(\",\")\",\n",
    "              \"*\",\"+\",\",\",\"-\",\".\",\"/\",\":\",\";\",\"<\",\n",
    "              \"=\",\">\",\"?\",\"@\",\"[\",\"\\\\\",\"]\",\"^\",\"_\",\n",
    "              \"`\",\"{\",\"|\",\"}\",\"~\",\"–\",\"\\n\",'ii','iii',\"\\d\",\"Verslag:\", \"medische\", \"gegevens\"]\n",
    "for char in spec_chars:\n",
    "    df_rad_1['Report_MG'] = df_rad_1['Report_MG'].str.replace(char, ' ')\n",
    "    df_rad_1['Report_US'] = df_rad_1['Report_US'].str.replace(char, ' ')\n",
    "    df_rad_1['Report_MRI'] = df_rad_1['Report_MRI'].str.replace(char, ' ')\n",
    "df_rad_1['Report_MG'] = df_rad_1['Report_MG'].str.split(\"Conclusie:\",expand=True)\n",
    "df_ploted = df_rad_1['BIRADS'].value_counts()\n",
    "df_ploted.plot.bar(x=\"test\", y=\"gest\", rot=100, title=\"BIRADS Data distrubtion\")\n",
    "df_rad_1.drop(df_rad_1.index[df_rad_1['BIRADS'] == 'nan'], inplace = True)\n",
    "df_rad_1.drop(df_rad_1.index[df_rad_1['BIRADS'] == '7'], inplace = True)\n",
    "df_rad_1.drop(df_rad_1.index[df_rad_1['BIRADS'] == '8'], inplace = True)\n",
    "df_rad_1.drop(df_rad_1.index[df_rad_1['BIRADS'] == '9'], inplace = True)\n",
    "df_ploted = df_rad_1['BIRADS'].value_counts()\n",
    "df_ploted.plot.bar(x=\"test\", y=\"gest\", rot=100, title=\"BIRADS Data distrubtion\")\n",
    "df_training = df_rad_1[['Id','Report_MG','BIRADS']]\n",
    "df_training['cleaned_text'] = df_training['Report_MG'].apply(lambda x: ' '.join([word for word in x.split() if word not in (stop)]))\n",
    "df_training.drop(df_training.index[df_training['Report_MG'] == 'nan'], inplace = True)\n",
    "new_ploted = df_training['BIRADS'].value_counts()\n",
    "new_ploted.plot.bar(title=\"BIRADS Data distrubtion\")\n",
    "df_training['cleaned_text'] = df_training['Report_MG'].apply(lambda x: ' '.join([word for word in x.split() if word not in (stop)]))\n",
    "df_training.head()\n",
    "df_main_data = df_training[['cleaned_text','BIRADS']]"
   ]
  },
  {
   "cell_type": "code",
   "execution_count": 180,
   "metadata": {},
   "outputs": [
    {
     "data": {
      "text/html": [
       "<div>\n",
       "<style scoped>\n",
       "    .dataframe tbody tr th:only-of-type {\n",
       "        vertical-align: middle;\n",
       "    }\n",
       "\n",
       "    .dataframe tbody tr th {\n",
       "        vertical-align: top;\n",
       "    }\n",
       "\n",
       "    .dataframe thead th {\n",
       "        text-align: right;\n",
       "    }\n",
       "</style>\n",
       "<table border=\"1\" class=\"dataframe\">\n",
       "  <thead>\n",
       "    <tr style=\"text-align: right;\">\n",
       "      <th></th>\n",
       "      <th>cleaned_text</th>\n",
       "      <th>BIRADS</th>\n",
       "    </tr>\n",
       "  </thead>\n",
       "  <tbody>\n",
       "    <tr>\n",
       "      <th>1</th>\n",
       "      <td>controle mammografie afwijkingen verslag verge...</td>\n",
       "      <td>2</td>\n",
       "    </tr>\n",
       "    <tr>\n",
       "      <th>2</th>\n",
       "      <td>klinische followup kadermammacarcinoom rechts ...</td>\n",
       "      <td>2</td>\n",
       "    </tr>\n",
       "    <tr>\n",
       "      <th>3</th>\n",
       "      <td>controle mammografie x mammografie rechts verg...</td>\n",
       "      <td>2</td>\n",
       "    </tr>\n",
       "    <tr>\n",
       "      <th>4</th>\n",
       "      <td>mammacarcinoom rechts follow up verslag ter ve...</td>\n",
       "      <td>1</td>\n",
       "    </tr>\n",
       "    <tr>\n",
       "      <th>6</th>\n",
       "      <td>indicatie fu kader belaste fa verslag t o v ap...</td>\n",
       "      <td>1</td>\n",
       "    </tr>\n",
       "    <tr>\n",
       "      <th>...</th>\n",
       "      <td>...</td>\n",
       "      <td>...</td>\n",
       "    </tr>\n",
       "    <tr>\n",
       "      <th>54395</th>\n",
       "      <td>klinische jarige vrouw hengelo komt via bevolk...</td>\n",
       "      <td>4</td>\n",
       "    </tr>\n",
       "    <tr>\n",
       "      <th>54397</th>\n",
       "      <td>klinische jarige vrouw hengelo voelt sinds aan...</td>\n",
       "      <td>1</td>\n",
       "    </tr>\n",
       "    <tr>\n",
       "      <th>54398</th>\n",
       "      <td>klinische jarige vrouw borne voelt sinds maand...</td>\n",
       "      <td>2</td>\n",
       "    </tr>\n",
       "    <tr>\n",
       "      <th>54400</th>\n",
       "      <td>klinische jarige vrouw almelo pijn r borst sin...</td>\n",
       "      <td>2</td>\n",
       "    </tr>\n",
       "    <tr>\n",
       "      <th>54401</th>\n",
       "      <td>klinische jarige vrouw bentelo voelt knobbeltj...</td>\n",
       "      <td>2</td>\n",
       "    </tr>\n",
       "  </tbody>\n",
       "</table>\n",
       "<p>35030 rows × 2 columns</p>\n",
       "</div>"
      ],
      "text/plain": [
       "                                            cleaned_text BIRADS\n",
       "1      controle mammografie afwijkingen verslag verge...      2\n",
       "2      klinische followup kadermammacarcinoom rechts ...      2\n",
       "3      controle mammografie x mammografie rechts verg...      2\n",
       "4      mammacarcinoom rechts follow up verslag ter ve...      1\n",
       "6      indicatie fu kader belaste fa verslag t o v ap...      1\n",
       "...                                                  ...    ...\n",
       "54395  klinische jarige vrouw hengelo komt via bevolk...      4\n",
       "54397  klinische jarige vrouw hengelo voelt sinds aan...      1\n",
       "54398  klinische jarige vrouw borne voelt sinds maand...      2\n",
       "54400  klinische jarige vrouw almelo pijn r borst sin...      2\n",
       "54401  klinische jarige vrouw bentelo voelt knobbeltj...      2\n",
       "\n",
       "[35030 rows x 2 columns]"
      ]
     },
     "execution_count": 180,
     "metadata": {},
     "output_type": "execute_result"
    }
   ],
   "source": [
    "df_main_data"
   ]
  },
  {
   "cell_type": "code",
   "execution_count": 181,
   "metadata": {},
   "outputs": [
    {
     "data": {
      "text/plain": [
       "(35030, 512)"
      ]
     },
     "execution_count": 181,
     "metadata": {},
     "output_type": "execute_result"
    }
   ],
   "source": [
    "import numpy as np\n",
    "seq_len = 512\n",
    "num_samples = len(df_main_data)\n",
    "Xids =np.zeros((num_samples,seq_len))\n",
    "Xmask =np.zeros((num_samples,seq_len))\n",
    "Xids.shape"
   ]
  },
  {
   "cell_type": "code",
   "execution_count": 182,
   "metadata": {},
   "outputs": [
    {
     "data": {
      "application/vnd.jupyter.widget-view+json": {
       "model_id": "ff485e79a40d46f78e7adbaa2e1c8400",
       "version_major": 2,
       "version_minor": 0
      },
      "text/plain": [
       "HBox(children=(HTML(value='Downloading'), FloatProgress(value=0.0, max=241680.0), HTML(value='')))"
      ]
     },
     "metadata": {},
     "output_type": "display_data"
    },
    {
     "name": "stdout",
     "output_type": "stream",
     "text": [
      "\n"
     ]
    },
    {
     "data": {
      "application/vnd.jupyter.widget-view+json": {
       "model_id": "8617ddb7d0344c19b289337f2df521e2",
       "version_major": 2,
       "version_minor": 0
      },
      "text/plain": [
       "HBox(children=(HTML(value='Downloading'), FloatProgress(value=0.0, max=112.0), HTML(value='')))"
      ]
     },
     "metadata": {},
     "output_type": "display_data"
    },
    {
     "name": "stdout",
     "output_type": "stream",
     "text": [
      "\n"
     ]
    },
    {
     "data": {
      "application/vnd.jupyter.widget-view+json": {
       "model_id": "f4bbb85b1295425ba87795b8fcbbbd66",
       "version_major": 2,
       "version_minor": 0
      },
      "text/plain": [
       "HBox(children=(HTML(value='Downloading'), FloatProgress(value=0.0, max=254.0), HTML(value='')))"
      ]
     },
     "metadata": {},
     "output_type": "display_data"
    },
    {
     "name": "stdout",
     "output_type": "stream",
     "text": [
      "\n"
     ]
    }
   ],
   "source": [
    "from transformers import BertTokenizer\n",
    "tokenizer = BertTokenizer.from_pretrained('GroNLP/bert-base-dutch-cased')\n",
    "for i,cleaned_text in enumerate(df_main_data['cleaned_text']):\n",
    "    tokens = tokenizer.encode_plus(cleaned_text, max_length=seq_len, truncation = True,\n",
    "                                 padding ='max_length',add_special_tokens = True,return_tensors = 'tf')\n",
    "    Xids[i, :] = tokens['input_ids']\n",
    "    Xmask[i, :] = tokens['attention_mask']"
   ]
  },
  {
   "cell_type": "code",
   "execution_count": 183,
   "metadata": {},
   "outputs": [
    {
     "data": {
      "text/plain": [
       "array([[1.0000e+00, 1.0367e+04, 1.5328e+04, ..., 3.0000e+00, 3.0000e+00,\n",
       "        3.0000e+00],\n",
       "       [1.0000e+00, 1.4360e+04, 1.1700e+02, ..., 3.0000e+00, 3.0000e+00,\n",
       "        3.0000e+00],\n",
       "       [1.0000e+00, 1.0367e+04, 1.5328e+04, ..., 3.0000e+00, 3.0000e+00,\n",
       "        3.0000e+00],\n",
       "       ...,\n",
       "       [1.0000e+00, 1.4360e+04, 1.1700e+02, ..., 3.0000e+00, 3.0000e+00,\n",
       "        3.0000e+00],\n",
       "       [1.0000e+00, 1.4360e+04, 1.1700e+02, ..., 3.0000e+00, 3.0000e+00,\n",
       "        3.0000e+00],\n",
       "       [1.0000e+00, 1.4360e+04, 1.1700e+02, ..., 3.0000e+00, 3.0000e+00,\n",
       "        3.0000e+00]])"
      ]
     },
     "execution_count": 183,
     "metadata": {},
     "output_type": "execute_result"
    }
   ],
   "source": [
    "Xids"
   ]
  },
  {
   "cell_type": "code",
   "execution_count": 184,
   "metadata": {},
   "outputs": [
    {
     "data": {
      "text/plain": [
       "array([[1., 1., 1., ..., 0., 0., 0.],\n",
       "       [1., 1., 1., ..., 0., 0., 0.],\n",
       "       [1., 1., 1., ..., 0., 0., 0.],\n",
       "       ...,\n",
       "       [1., 1., 1., ..., 0., 0., 0.],\n",
       "       [1., 1., 1., ..., 0., 0., 0.],\n",
       "       [1., 1., 1., ..., 0., 0., 0.]])"
      ]
     },
     "execution_count": 184,
     "metadata": {},
     "output_type": "execute_result"
    }
   ],
   "source": [
    "Xmask"
   ]
  },
  {
   "cell_type": "code",
   "execution_count": 185,
   "metadata": {},
   "outputs": [
    {
     "data": {
      "text/html": [
       "<div>\n",
       "<style scoped>\n",
       "    .dataframe tbody tr th:only-of-type {\n",
       "        vertical-align: middle;\n",
       "    }\n",
       "\n",
       "    .dataframe tbody tr th {\n",
       "        vertical-align: top;\n",
       "    }\n",
       "\n",
       "    .dataframe thead th {\n",
       "        text-align: right;\n",
       "    }\n",
       "</style>\n",
       "<table border=\"1\" class=\"dataframe\">\n",
       "  <thead>\n",
       "    <tr style=\"text-align: right;\">\n",
       "      <th></th>\n",
       "      <th>cleaned_text</th>\n",
       "      <th>BIRADS</th>\n",
       "    </tr>\n",
       "  </thead>\n",
       "  <tbody>\n",
       "    <tr>\n",
       "      <th>1</th>\n",
       "      <td>controle mammografie afwijkingen verslag verge...</td>\n",
       "      <td>2</td>\n",
       "    </tr>\n",
       "    <tr>\n",
       "      <th>2</th>\n",
       "      <td>klinische followup kadermammacarcinoom rechts ...</td>\n",
       "      <td>2</td>\n",
       "    </tr>\n",
       "    <tr>\n",
       "      <th>3</th>\n",
       "      <td>controle mammografie x mammografie rechts verg...</td>\n",
       "      <td>2</td>\n",
       "    </tr>\n",
       "    <tr>\n",
       "      <th>4</th>\n",
       "      <td>mammacarcinoom rechts follow up verslag ter ve...</td>\n",
       "      <td>1</td>\n",
       "    </tr>\n",
       "    <tr>\n",
       "      <th>6</th>\n",
       "      <td>indicatie fu kader belaste fa verslag t o v ap...</td>\n",
       "      <td>1</td>\n",
       "    </tr>\n",
       "    <tr>\n",
       "      <th>...</th>\n",
       "      <td>...</td>\n",
       "      <td>...</td>\n",
       "    </tr>\n",
       "    <tr>\n",
       "      <th>54395</th>\n",
       "      <td>klinische jarige vrouw hengelo komt via bevolk...</td>\n",
       "      <td>4</td>\n",
       "    </tr>\n",
       "    <tr>\n",
       "      <th>54397</th>\n",
       "      <td>klinische jarige vrouw hengelo voelt sinds aan...</td>\n",
       "      <td>1</td>\n",
       "    </tr>\n",
       "    <tr>\n",
       "      <th>54398</th>\n",
       "      <td>klinische jarige vrouw borne voelt sinds maand...</td>\n",
       "      <td>2</td>\n",
       "    </tr>\n",
       "    <tr>\n",
       "      <th>54400</th>\n",
       "      <td>klinische jarige vrouw almelo pijn r borst sin...</td>\n",
       "      <td>2</td>\n",
       "    </tr>\n",
       "    <tr>\n",
       "      <th>54401</th>\n",
       "      <td>klinische jarige vrouw bentelo voelt knobbeltj...</td>\n",
       "      <td>2</td>\n",
       "    </tr>\n",
       "  </tbody>\n",
       "</table>\n",
       "<p>35030 rows × 2 columns</p>\n",
       "</div>"
      ],
      "text/plain": [
       "                                            cleaned_text BIRADS\n",
       "1      controle mammografie afwijkingen verslag verge...      2\n",
       "2      klinische followup kadermammacarcinoom rechts ...      2\n",
       "3      controle mammografie x mammografie rechts verg...      2\n",
       "4      mammacarcinoom rechts follow up verslag ter ve...      1\n",
       "6      indicatie fu kader belaste fa verslag t o v ap...      1\n",
       "...                                                  ...    ...\n",
       "54395  klinische jarige vrouw hengelo komt via bevolk...      4\n",
       "54397  klinische jarige vrouw hengelo voelt sinds aan...      1\n",
       "54398  klinische jarige vrouw borne voelt sinds maand...      2\n",
       "54400  klinische jarige vrouw almelo pijn r borst sin...      2\n",
       "54401  klinische jarige vrouw bentelo voelt knobbeltj...      2\n",
       "\n",
       "[35030 rows x 2 columns]"
      ]
     },
     "execution_count": 185,
     "metadata": {},
     "output_type": "execute_result"
    }
   ],
   "source": [
    "df_main_data"
   ]
  },
  {
   "cell_type": "code",
   "execution_count": 190,
   "metadata": {},
   "outputs": [
    {
     "data": {
      "text/plain": [
       "array([2, 2, 2, ..., 2, 2, 2])"
      ]
     },
     "execution_count": 190,
     "metadata": {},
     "output_type": "execute_result"
    }
   ],
   "source": [
    "arr = pd.to_numeric(df_main_data['BIRADS'].values)\n",
    "arr"
   ]
  },
  {
   "cell_type": "code",
   "execution_count": 191,
   "metadata": {},
   "outputs": [
    {
     "data": {
      "text/plain": [
       "(35030, 7)"
      ]
     },
     "execution_count": 191,
     "metadata": {},
     "output_type": "execute_result"
    }
   ],
   "source": [
    "labels = np.zeros((num_samples, arr.max()+1))\n",
    "labels.shape"
   ]
  },
  {
   "cell_type": "code",
   "execution_count": 192,
   "metadata": {},
   "outputs": [
    {
     "name": "stderr",
     "output_type": "stream",
     "text": [
      "<ipython-input-192-018173f2576b>:2: SettingWithCopyWarning: \n",
      "A value is trying to be set on a copy of a slice from a DataFrame.\n",
      "Try using .loc[row_indexer,col_indexer] = value instead\n",
      "\n",
      "See the caveats in the documentation: https://pandas.pydata.org/pandas-docs/stable/user_guide/indexing.html#returning-a-view-versus-a-copy\n",
      "  df_main_data['BIRADS'] = pd.to_numeric(df_main_data['BIRADS'])\n"
     ]
    },
    {
     "data": {
      "text/plain": [
       "cleaned_text    object\n",
       "BIRADS           int64\n",
       "dtype: object"
      ]
     },
     "execution_count": 192,
     "metadata": {},
     "output_type": "execute_result"
    }
   ],
   "source": [
    "#df_main_data['BIRADS'] = df_main_data['BIRADS'].astype(int)\n",
    "df_main_data['BIRADS'] = pd.to_numeric(df_main_data['BIRADS'])\n",
    "\n",
    "df_main_data.dtypes"
   ]
  },
  {
   "cell_type": "code",
   "execution_count": 193,
   "metadata": {},
   "outputs": [],
   "source": [
    "labels[np.arange(num_samples), arr] = 1"
   ]
  },
  {
   "cell_type": "code",
   "execution_count": 194,
   "metadata": {},
   "outputs": [
    {
     "data": {
      "text/plain": [
       "array([[0., 0., 1., ..., 0., 0., 0.],\n",
       "       [0., 0., 1., ..., 0., 0., 0.],\n",
       "       [0., 0., 1., ..., 0., 0., 0.],\n",
       "       ...,\n",
       "       [0., 0., 1., ..., 0., 0., 0.],\n",
       "       [0., 0., 1., ..., 0., 0., 0.],\n",
       "       [0., 0., 1., ..., 0., 0., 0.]])"
      ]
     },
     "execution_count": 194,
     "metadata": {},
     "output_type": "execute_result"
    }
   ],
   "source": [
    "labels"
   ]
  },
  {
   "cell_type": "code",
   "execution_count": 195,
   "metadata": {},
   "outputs": [],
   "source": [
    "import tensorflow as tf"
   ]
  },
  {
   "cell_type": "code",
   "execution_count": 196,
   "metadata": {},
   "outputs": [
    {
     "data": {
      "text/plain": [
       "<TakeDataset shapes: ((512,), (512,), (7,)), types: (tf.float64, tf.float64, tf.float64)>"
      ]
     },
     "execution_count": 196,
     "metadata": {},
     "output_type": "execute_result"
    }
   ],
   "source": [
    "dataset = tf.data.Dataset.from_tensor_slices((Xids,Xmask,labels))\n",
    "dataset.take(1)"
   ]
  },
  {
   "cell_type": "code",
   "execution_count": 197,
   "metadata": {},
   "outputs": [
    {
     "data": {
      "text/plain": [
       "(7,)"
      ]
     },
     "execution_count": 197,
     "metadata": {},
     "output_type": "execute_result"
    }
   ],
   "source": [
    "labels[0, :].shape"
   ]
  },
  {
   "cell_type": "code",
   "execution_count": 198,
   "metadata": {},
   "outputs": [],
   "source": [
    "def map_func(input_ids, masks,labels):\n",
    "    return {'input_ids' :input_ids, 'attention_mask' : masks}, labels"
   ]
  },
  {
   "cell_type": "code",
   "execution_count": 199,
   "metadata": {},
   "outputs": [],
   "source": [
    "dataset = dataset.map(map_func)"
   ]
  },
  {
   "cell_type": "code",
   "execution_count": 200,
   "metadata": {},
   "outputs": [
    {
     "data": {
      "text/plain": [
       "<TakeDataset shapes: ({input_ids: (512,), attention_mask: (512,)}, (7,)), types: ({input_ids: tf.float64, attention_mask: tf.float64}, tf.float64)>"
      ]
     },
     "execution_count": 200,
     "metadata": {},
     "output_type": "execute_result"
    }
   ],
   "source": [
    "dataset.take(1)"
   ]
  },
  {
   "cell_type": "code",
   "execution_count": 201,
   "metadata": {},
   "outputs": [
    {
     "data": {
      "text/plain": [
       "<TakeDataset shapes: ({input_ids: (16, 512), attention_mask: (16, 512)}, (16, 7)), types: ({input_ids: tf.float64, attention_mask: tf.float64}, tf.float64)>"
      ]
     },
     "execution_count": 201,
     "metadata": {},
     "output_type": "execute_result"
    }
   ],
   "source": [
    "batch_size = 16\n",
    "dataset = dataset.shuffle(10000).batch(batch_size, drop_remainder = True)\n",
    "dataset.take(1)"
   ]
  },
  {
   "cell_type": "code",
   "execution_count": 202,
   "metadata": {},
   "outputs": [],
   "source": [
    "split = 0.8\n",
    "size = int((num_samples/batch_size)*split)"
   ]
  },
  {
   "cell_type": "code",
   "execution_count": 203,
   "metadata": {},
   "outputs": [
    {
     "data": {
      "text/plain": [
       "1751"
      ]
     },
     "execution_count": 203,
     "metadata": {},
     "output_type": "execute_result"
    }
   ],
   "source": [
    "int((num_samples/batch_size)*split)"
   ]
  },
  {
   "cell_type": "code",
   "execution_count": 204,
   "metadata": {},
   "outputs": [],
   "source": [
    "train_ds = dataset.take(size)\n",
    "val_ds = dataset.skip(size)\n",
    "del dataset"
   ]
  },
  {
   "cell_type": "code",
   "execution_count": 205,
   "metadata": {},
   "outputs": [
    {
     "data": {
      "application/vnd.jupyter.widget-view+json": {
       "model_id": "f87a3d6049b943cb9989893f5ffca766",
       "version_major": 2,
       "version_minor": 0
      },
      "text/plain": [
       "HBox(children=(HTML(value='Downloading'), FloatProgress(value=0.0, max=608.0), HTML(value='')))"
      ]
     },
     "metadata": {},
     "output_type": "display_data"
    },
    {
     "name": "stdout",
     "output_type": "stream",
     "text": [
      "\n"
     ]
    },
    {
     "data": {
      "application/vnd.jupyter.widget-view+json": {
       "model_id": "061a294b3abc437f932abf0e3cb7b724",
       "version_major": 2,
       "version_minor": 0
      },
      "text/plain": [
       "HBox(children=(HTML(value='Downloading'), FloatProgress(value=0.0, max=530923844.0), HTML(value='')))"
      ]
     },
     "metadata": {},
     "output_type": "display_data"
    },
    {
     "name": "stdout",
     "output_type": "stream",
     "text": [
      "\n"
     ]
    },
    {
     "name": "stderr",
     "output_type": "stream",
     "text": [
      "Some layers from the model checkpoint at GroNLP/bert-base-dutch-cased were not used when initializing TFBertModel: ['mlm___cls']\n",
      "- This IS expected if you are initializing TFBertModel from the checkpoint of a model trained on another task or with another architecture (e.g. initializing a BertForSequenceClassification model from a BertForPreTraining model).\n",
      "- This IS NOT expected if you are initializing TFBertModel from the checkpoint of a model that you expect to be exactly identical (initializing a BertForSequenceClassification model from a BertForSequenceClassification model).\n",
      "Some layers of TFBertModel were not initialized from the model checkpoint at GroNLP/bert-base-dutch-cased and are newly initialized: ['bert/pooler/dense/kernel:0', 'bert/pooler/dense/bias:0']\n",
      "You should probably TRAIN this model on a down-stream task to be able to use it for predictions and inference.\n"
     ]
    },
    {
     "name": "stdout",
     "output_type": "stream",
     "text": [
      "Model: \"tf_bert_model_1\"\n",
      "_________________________________________________________________\n",
      "Layer (type)                 Output Shape              Param #   \n",
      "=================================================================\n",
      "bert (TFBertMainLayer)       multiple                  109137408 \n",
      "=================================================================\n",
      "Total params: 109,137,408\n",
      "Trainable params: 109,137,408\n",
      "Non-trainable params: 0\n",
      "_________________________________________________________________\n"
     ]
    }
   ],
   "source": [
    "from transformers import TFAutoModel\n",
    "bert = TFAutoModel.from_pretrained('GroNLP/bert-base-dutch-cased')\n",
    "bert.summary()"
   ]
  },
  {
   "cell_type": "code",
   "execution_count": 207,
   "metadata": {},
   "outputs": [],
   "source": [
    "input_ids = tf.keras.layers.Input(shape=(seq_len,), name = 'input_ids',dtype='int32')\n",
    "mask = tf.keras.layers.Input(shape=(seq_len,), name = 'attention_mask',dtype='int32')\n",
    "embeddings = bert.bert(input_ids,mask)[1]\n",
    "x = tf.keras.layers.Dense(1024, activation = 'relu')(embeddings)\n",
    "y = tf.keras.layers.Dense(arr.max()+1, activation = 'softmax',name = 'outputs')(x)"
   ]
  },
  {
   "cell_type": "code",
   "execution_count": 208,
   "metadata": {},
   "outputs": [
    {
     "name": "stdout",
     "output_type": "stream",
     "text": [
      "Model: \"model_1\"\n",
      "__________________________________________________________________________________________________\n",
      "Layer (type)                    Output Shape         Param #     Connected to                     \n",
      "==================================================================================================\n",
      "input_ids (InputLayer)          [(None, 512)]        0                                            \n",
      "__________________________________________________________________________________________________\n",
      "attention_mask (InputLayer)     [(None, 512)]        0                                            \n",
      "__________________________________________________________________________________________________\n",
      "bert (TFBertMainLayer)          TFBaseModelOutputWit 109137408   input_ids[0][0]                  \n",
      "                                                                 attention_mask[0][0]             \n",
      "__________________________________________________________________________________________________\n",
      "dense_3 (Dense)                 (None, 1024)         787456      bert[1][1]                       \n",
      "__________________________________________________________________________________________________\n",
      "outputs (Dense)                 (None, 7)            7175        dense_3[0][0]                    \n",
      "==================================================================================================\n",
      "Total params: 109,932,039\n",
      "Trainable params: 109,932,039\n",
      "Non-trainable params: 0\n",
      "__________________________________________________________________________________________________\n"
     ]
    }
   ],
   "source": [
    "model = tf.keras.Model(inputs =[input_ids,mask], outputs = y)\n",
    "model.summary()"
   ]
  },
  {
   "cell_type": "code",
   "execution_count": 209,
   "metadata": {},
   "outputs": [],
   "source": [
    "optimizer = tf.keras.optimizers.Adam(learning_rate = 0.1, decay = 0.1)\n",
    "loss = tf.keras.losses.CategoricalCrossentropy()\n",
    "acc = tf.keras.metrics.CategoricalAccuracy('accuracy')"
   ]
  },
  {
   "cell_type": "code",
   "execution_count": 210,
   "metadata": {},
   "outputs": [],
   "source": [
    "model.compile(optimizer=optimizer,loss =loss, metrics = [acc])"
   ]
  },
  {
   "cell_type": "code",
   "execution_count": 212,
   "metadata": {},
   "outputs": [
    {
     "name": "stdout",
     "output_type": "stream",
     "text": [
      "1751/1751 [==============================] - 148755s 85s/step - loss: 1.2862 - accuracy: 0.5128 - val_loss: 1.1801 - val_accuracy: 0.5889\n"
     ]
    }
   ],
   "source": [
    "history = model.fit(\n",
    "    train_ds,\n",
    "    validation_data = val_ds,\n",
    "    epochs =1 \n",
    ")"
   ]
  },
  {
   "cell_type": "code",
   "execution_count": 214,
   "metadata": {},
   "outputs": [
    {
     "name": "stderr",
     "output_type": "stream",
     "text": [
      "WARNING:absl:Found untraced functions such as embeddings_layer_call_fn, embeddings_layer_call_and_return_conditional_losses, encoder_layer_call_fn, encoder_layer_call_and_return_conditional_losses, pooler_layer_call_fn while saving (showing 5 of 1055). These functions will not be directly callable after loading.\n",
      "/opt/anaconda3/lib/python3.8/site-packages/tensorflow/python/keras/utils/generic_utils.py:494: CustomMaskWarning: Custom mask layers require a config and must override get_config. When loading, the custom mask layer must be passed to the custom_objects argument.\n",
      "  warnings.warn('Custom mask layers require a config and must override '\n"
     ]
    },
    {
     "name": "stdout",
     "output_type": "stream",
     "text": [
      "INFO:tensorflow:Assets written to: sentiment_model/assets\n"
     ]
    },
    {
     "name": "stderr",
     "output_type": "stream",
     "text": [
      "INFO:tensorflow:Assets written to: sentiment_model/assets\n"
     ]
    }
   ],
   "source": [
    "model.save('sentiment_model')"
   ]
  },
  {
   "cell_type": "code",
   "execution_count": null,
   "metadata": {},
   "outputs": [],
   "source": []
  },
  {
   "cell_type": "code",
   "execution_count": null,
   "metadata": {},
   "outputs": [],
   "source": []
  }
 ],
 "metadata": {
  "kernelspec": {
   "display_name": "Python 3",
   "language": "python",
   "name": "python3"
  },
  "language_info": {
   "codemirror_mode": {
    "name": "ipython",
    "version": 3
   },
   "file_extension": ".py",
   "mimetype": "text/x-python",
   "name": "python",
   "nbconvert_exporter": "python",
   "pygments_lexer": "ipython3",
   "version": "3.8.5"
  }
 },
 "nbformat": 4,
 "nbformat_minor": 4
}
