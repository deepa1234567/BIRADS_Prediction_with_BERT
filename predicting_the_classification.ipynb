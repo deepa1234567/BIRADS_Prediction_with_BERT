{
 "cells": [
  {
   "cell_type": "code",
   "execution_count": 1,
   "metadata": {},
   "outputs": [],
   "source": [
    "import tensorflow as tf"
   ]
  },
  {
   "cell_type": "code",
   "execution_count": 2,
   "metadata": {},
   "outputs": [
    {
     "name": "stdout",
     "output_type": "stream",
     "text": [
      "Model: \"model_1\"\n",
      "__________________________________________________________________________________________________\n",
      "Layer (type)                    Output Shape         Param #     Connected to                     \n",
      "==================================================================================================\n",
      "input_ids (InputLayer)          [(None, 512)]        0                                            \n",
      "__________________________________________________________________________________________________\n",
      "attention_mask (InputLayer)     [(None, 512)]        0                                            \n",
      "__________________________________________________________________________________________________\n",
      "bert (Custom>TFBertMainLayer)   {'pooler_output': (N 109137408   input_ids[0][0]                  \n",
      "                                                                 attention_mask[0][0]             \n",
      "__________________________________________________________________________________________________\n",
      "dense_3 (Dense)                 (None, 1024)         787456      bert[0][1]                       \n",
      "__________________________________________________________________________________________________\n",
      "outputs (Dense)                 (None, 7)            7175        dense_3[0][0]                    \n",
      "==================================================================================================\n",
      "Total params: 109,932,039\n",
      "Trainable params: 109,932,039\n",
      "Non-trainable params: 0\n",
      "__________________________________________________________________________________________________\n"
     ]
    }
   ],
   "source": [
    "model = tf.keras.models.load_model('sentiment_model')\n",
    "model.summary()"
   ]
  },
  {
   "cell_type": "code",
   "execution_count": 42,
   "metadata": {},
   "outputs": [],
   "source": [
    "from transformers import BertTokenizer\n",
    "tokenizer = BertTokenizer.from_pretrained('GroNLP/bert-base-dutch-cased')\n",
    "def pred_data(text):\n",
    "    tokens = tokenizer.encode_plus(text,max_length = 512, truncation = True, padding = 'max_length',\n",
    "                                  add_special_tokens = True,return_token_type_id = False, return_tensors = 'tf')\n",
    "    return {\n",
    "        'input_ids' : tf.cast(tokens['input_ids'],tf.float64),\n",
    "        'attention_mask' : tf.cast(tokens['attention_mask'],tf.float64)\n",
    "\n",
    "    }"
   ]
  },
  {
   "cell_type": "code",
   "execution_count": 63,
   "metadata": {
    "scrolled": true
   },
   "outputs": [
    {
     "name": "stderr",
     "output_type": "stream",
     "text": [
      "Keyword arguments {'return_token_type_id': False} not recognized.\n"
     ]
    }
   ],
   "source": [
    "test = pred_data('aanhoudende pijnklachten linkerborst geen palpabele afwijkingen verslag mammografie volgens protocol ter vergelijk analoge onderzoek d d goed beoordeelbaar mammogram deels geïnvolueerd fibroglandulair weefsel acr classificatie geringe asymmetrie verdeling klierweefsel waarbij rechts lateraal druk gebied aanvullende detailopname gebied geen verdachte massa s densiteiten anderszins tevens geen verdachte massa s densiteiten geen architectuurverstoringen geen clusters microcalcificaties normaal beeld cutis subcutis alsmede mamilla beiderzijds axillae geen aanwijzingen pathologie conclusie normaal mammogram geen aanwijzingen maligniteit birads i')"
   ]
  },
  {
   "cell_type": "code",
   "execution_count": 64,
   "metadata": {},
   "outputs": [
    {
     "data": {
      "text/plain": [
       "array([0.01103273, 0.2565555 , 0.6162052 , 0.04478719, 0.04178258,\n",
       "       0.01831297, 0.01132385], dtype=float32)"
      ]
     },
     "execution_count": 64,
     "metadata": {},
     "output_type": "execute_result"
    }
   ],
   "source": [
    "prob = model.predict(test)\n",
    "prob[0]"
   ]
  },
  {
   "cell_type": "code",
   "execution_count": 66,
   "metadata": {},
   "outputs": [
    {
     "data": {
      "text/plain": [
       "2"
      ]
     },
     "execution_count": 66,
     "metadata": {},
     "output_type": "execute_result"
    }
   ],
   "source": [
    "import numpy as np\n",
    "np.argmax(prob[0])"
   ]
  },
  {
   "cell_type": "code",
   "execution_count": null,
   "metadata": {},
   "outputs": [],
   "source": []
  },
  {
   "cell_type": "code",
   "execution_count": null,
   "metadata": {},
   "outputs": [],
   "source": []
  }
 ],
 "metadata": {
  "kernelspec": {
   "display_name": "Python 3",
   "language": "python",
   "name": "python3"
  },
  "language_info": {
   "codemirror_mode": {
    "name": "ipython",
    "version": 3
   },
   "file_extension": ".py",
   "mimetype": "text/x-python",
   "name": "python",
   "nbconvert_exporter": "python",
   "pygments_lexer": "ipython3",
   "version": "3.8.5"
  }
 },
 "nbformat": 4,
 "nbformat_minor": 4
}
